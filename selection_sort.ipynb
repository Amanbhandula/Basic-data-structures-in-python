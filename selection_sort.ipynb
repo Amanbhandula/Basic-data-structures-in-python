{
 "cells": [
  {
   "cell_type": "code",
   "execution_count": 1,
   "metadata": {},
   "outputs": [
    {
     "name": "stdout",
     "output_type": "stream",
     "text": [
      "\n",
      "selection sort: [1, 3, 5, 7, 2, 6, 25, 18, 13]\n",
      "selection sort: [1, 3, 5, 7, 2, 6, 25, 18, 13]\n",
      "selection sort: [1, 2, 5, 7, 3, 6, 25, 18, 13]\n",
      "selection sort: [1, 2, 3, 7, 5, 6, 25, 18, 13]\n",
      "selection sort: [1, 2, 3, 5, 7, 6, 25, 18, 13]\n",
      "selection sort: [1, 2, 3, 5, 6, 7, 25, 18, 13]\n",
      "selection sort: [1, 2, 3, 5, 6, 7, 25, 18, 13]\n",
      "selection sort: [1, 2, 3, 5, 6, 7, 13, 25, 18]\n",
      "selection sort: [1, 2, 3, 5, 6, 7, 13, 18, 25]\n",
      "None\n",
      "[1, 2, 3, 5, 6, 7, 13, 18, 25]\n"
     ]
    }
   ],
   "source": [
    "def selection_sort(L):\n",
    "    suffixSt = 0\n",
    "    while suffixSt != len(L):\n",
    "        print('selection sort: ' + str(L))\n",
    "        for i in range(suffixSt, len(L)):\n",
    "            if L[i] < L[suffixSt]:\n",
    "                L[suffixSt], L[i] = L[i], L[suffixSt]\n",
    "        suffixSt += 1\n",
    " \n",
    "testList = [1,3,5,7,2,6,25,18,13]\n",
    "       \n",
    "print('')\n",
    "print(selection_sort(testList))\n",
    "print(testList)\n"
   ]
  },
  {
   "cell_type": "code",
   "execution_count": null,
   "metadata": {},
   "outputs": [],
   "source": []
  }
 ],
 "metadata": {
  "kernelspec": {
   "display_name": "Python 3",
   "language": "python",
   "name": "python3"
  },
  "language_info": {
   "codemirror_mode": {
    "name": "ipython",
    "version": 3
   },
   "file_extension": ".py",
   "mimetype": "text/x-python",
   "name": "python",
   "nbconvert_exporter": "python",
   "pygments_lexer": "ipython3",
   "version": "3.6.4"
  }
 },
 "nbformat": 4,
 "nbformat_minor": 2
}
