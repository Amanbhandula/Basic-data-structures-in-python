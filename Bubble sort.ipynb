{
 "cells": [
  {
   "cell_type": "code",
   "execution_count": 1,
   "metadata": {},
   "outputs": [
    {
     "name": "stdout",
     "output_type": "stream",
     "text": [
      "\n",
      "bubble sort: [1, 3, 5, 7, 2, 6, 25, 18, 13]\n",
      "bubble sort: [1, 3, 5, 2, 6, 7, 18, 13, 25]\n",
      "bubble sort: [1, 3, 2, 5, 6, 7, 13, 18, 25]\n",
      "bubble sort: [1, 2, 3, 5, 6, 7, 13, 18, 25]\n",
      "None\n",
      "[1, 2, 3, 5, 6, 7, 13, 18, 25]\n"
     ]
    }
   ],
   "source": [
    "def bubble_sort(L):\n",
    "    swap = False\n",
    "    while not swap:\n",
    "        print('bubble sort: ' + str(L))\n",
    "        swap = True\n",
    "        for j in range(1, len(L)):\n",
    "            if L[j-1] > L[j]:\n",
    "                swap = False\n",
    "                temp = L[j]\n",
    "                L[j] = L[j-1]\n",
    "                L[j-1] = temp\n",
    "\n",
    "testList = [1,3,5,7,2,6,25,18,13]\n",
    "\n",
    "print('')\n",
    "print(bubble_sort(testList))\n",
    "print(testList)"
   ]
  },
  {
   "cell_type": "code",
   "execution_count": null,
   "metadata": {},
   "outputs": [],
   "source": []
  }
 ],
 "metadata": {
  "kernelspec": {
   "display_name": "Python 3",
   "language": "python",
   "name": "python3"
  },
  "language_info": {
   "codemirror_mode": {
    "name": "ipython",
    "version": 3
   },
   "file_extension": ".py",
   "mimetype": "text/x-python",
   "name": "python",
   "nbconvert_exporter": "python",
   "pygments_lexer": "ipython3",
   "version": "3.6.4"
  }
 },
 "nbformat": 4,
 "nbformat_minor": 2
}
